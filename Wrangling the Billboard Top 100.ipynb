{
 "cells": [
  {
   "cell_type": "markdown",
   "id": "ef8684a1",
   "metadata": {},
   "source": [
    "Consider the data in billboard.csv containing every song to appear on the weekly Billboard Top 100 chart since 1958, up through the middle of 2021. Each row of this data corresponds to a single song in a single week. For our purposes, the relevant columns here are:\n",
    "  - performer: who performed the song\n",
    "  - song: the title of the song\n",
    "  - year: year (1958 to 2021)\n",
    "  - week: chart week of that year (1, 2, etc)\n",
    "  - week_position: what position that song occupied that week on the Billboard \n",
    "    top 100 chart.\n",
    "    \n",
    "Use your skills in data wrangling and plotting to answer the following three questions."
   ]
  },
  {
   "cell_type": "markdown",
   "id": "fceef918",
   "metadata": {},
   "source": [
    "Part A: Make a table of the top 10 most popular songs since 1958, as measured by the total number of weeks that a song spent on the Billboard Top 100. Note that these data end in week 22 of 2021, so the most popular songs of 2021 will not have up-to-the-minute data; please send our apologies to The Weeknd.\n",
    "\n",
    "Your table should have 10 rows and 3 columns: performer, song, and count, where count represents the number of weeks that song appeared in the Billboard Top 100. Make sure the entries are sorted in descending order of the count variable, so that the more popular songs appear at the top of the table. Give your table a short caption describing what is shown in the table.\n",
    "\n",
    "(Note: you'll want to use both performer and song in any group_by operations, to account for the fact that multiple unique songs can share the same title.)"
   ]
  },
  {
   "cell_type": "code",
   "execution_count": 1,
   "id": "1d1feb66",
   "metadata": {},
   "outputs": [
    {
     "name": "stdout",
     "output_type": "stream",
     "text": [
      "Populating the interactive namespace from numpy and matplotlib\n"
     ]
    }
   ],
   "source": [
    "import pandas as pd\n",
    "from pandas import Series, DataFrame\n",
    "%pylab inline"
   ]
  },
  {
   "cell_type": "code",
   "execution_count": 2,
   "id": "d354aab1",
   "metadata": {
    "scrolled": true
   },
   "outputs": [
    {
     "data": {
      "text/html": [
       "<div>\n",
       "<style scoped>\n",
       "    .dataframe tbody tr th:only-of-type {\n",
       "        vertical-align: middle;\n",
       "    }\n",
       "\n",
       "    .dataframe tbody tr th {\n",
       "        vertical-align: top;\n",
       "    }\n",
       "\n",
       "    .dataframe thead th {\n",
       "        text-align: right;\n",
       "    }\n",
       "</style>\n",
       "<table border=\"1\" class=\"dataframe\">\n",
       "  <thead>\n",
       "    <tr style=\"text-align: right;\">\n",
       "      <th></th>\n",
       "      <th>Unnamed: 0</th>\n",
       "      <th>url</th>\n",
       "      <th>week_id</th>\n",
       "      <th>week_position</th>\n",
       "      <th>song</th>\n",
       "      <th>performer</th>\n",
       "      <th>song_id</th>\n",
       "      <th>instance</th>\n",
       "      <th>previous_week_position</th>\n",
       "      <th>peak_position</th>\n",
       "      <th>weeks_on_chart</th>\n",
       "      <th>year</th>\n",
       "      <th>week</th>\n",
       "    </tr>\n",
       "  </thead>\n",
       "  <tbody>\n",
       "    <tr>\n",
       "      <th>0</th>\n",
       "      <td>1</td>\n",
       "      <td>http://www.billboard.com/charts/hot-100/1965-0...</td>\n",
       "      <td>7/17/1965</td>\n",
       "      <td>34</td>\n",
       "      <td>Don't Just Stand There</td>\n",
       "      <td>Patty Duke</td>\n",
       "      <td>Don't Just Stand TherePatty Duke</td>\n",
       "      <td>1</td>\n",
       "      <td>45.0</td>\n",
       "      <td>34</td>\n",
       "      <td>4</td>\n",
       "      <td>1965</td>\n",
       "      <td>29</td>\n",
       "    </tr>\n",
       "    <tr>\n",
       "      <th>1</th>\n",
       "      <td>2</td>\n",
       "      <td>http://www.billboard.com/charts/hot-100/1965-0...</td>\n",
       "      <td>7/24/1965</td>\n",
       "      <td>22</td>\n",
       "      <td>Don't Just Stand There</td>\n",
       "      <td>Patty Duke</td>\n",
       "      <td>Don't Just Stand TherePatty Duke</td>\n",
       "      <td>1</td>\n",
       "      <td>34.0</td>\n",
       "      <td>22</td>\n",
       "      <td>5</td>\n",
       "      <td>1965</td>\n",
       "      <td>30</td>\n",
       "    </tr>\n",
       "    <tr>\n",
       "      <th>2</th>\n",
       "      <td>3</td>\n",
       "      <td>http://www.billboard.com/charts/hot-100/1965-0...</td>\n",
       "      <td>7/31/1965</td>\n",
       "      <td>14</td>\n",
       "      <td>Don't Just Stand There</td>\n",
       "      <td>Patty Duke</td>\n",
       "      <td>Don't Just Stand TherePatty Duke</td>\n",
       "      <td>1</td>\n",
       "      <td>22.0</td>\n",
       "      <td>14</td>\n",
       "      <td>6</td>\n",
       "      <td>1965</td>\n",
       "      <td>31</td>\n",
       "    </tr>\n",
       "    <tr>\n",
       "      <th>3</th>\n",
       "      <td>4</td>\n",
       "      <td>http://www.billboard.com/charts/hot-100/1965-0...</td>\n",
       "      <td>8/7/1965</td>\n",
       "      <td>10</td>\n",
       "      <td>Don't Just Stand There</td>\n",
       "      <td>Patty Duke</td>\n",
       "      <td>Don't Just Stand TherePatty Duke</td>\n",
       "      <td>1</td>\n",
       "      <td>14.0</td>\n",
       "      <td>10</td>\n",
       "      <td>7</td>\n",
       "      <td>1965</td>\n",
       "      <td>32</td>\n",
       "    </tr>\n",
       "    <tr>\n",
       "      <th>4</th>\n",
       "      <td>5</td>\n",
       "      <td>http://www.billboard.com/charts/hot-100/1965-0...</td>\n",
       "      <td>8/14/1965</td>\n",
       "      <td>8</td>\n",
       "      <td>Don't Just Stand There</td>\n",
       "      <td>Patty Duke</td>\n",
       "      <td>Don't Just Stand TherePatty Duke</td>\n",
       "      <td>1</td>\n",
       "      <td>10.0</td>\n",
       "      <td>8</td>\n",
       "      <td>8</td>\n",
       "      <td>1965</td>\n",
       "      <td>33</td>\n",
       "    </tr>\n",
       "  </tbody>\n",
       "</table>\n",
       "</div>"
      ],
      "text/plain": [
       "   Unnamed: 0                                                url    week_id  \\\n",
       "0           1  http://www.billboard.com/charts/hot-100/1965-0...  7/17/1965   \n",
       "1           2  http://www.billboard.com/charts/hot-100/1965-0...  7/24/1965   \n",
       "2           3  http://www.billboard.com/charts/hot-100/1965-0...  7/31/1965   \n",
       "3           4  http://www.billboard.com/charts/hot-100/1965-0...   8/7/1965   \n",
       "4           5  http://www.billboard.com/charts/hot-100/1965-0...  8/14/1965   \n",
       "\n",
       "   week_position                    song   performer  \\\n",
       "0             34  Don't Just Stand There  Patty Duke   \n",
       "1             22  Don't Just Stand There  Patty Duke   \n",
       "2             14  Don't Just Stand There  Patty Duke   \n",
       "3             10  Don't Just Stand There  Patty Duke   \n",
       "4              8  Don't Just Stand There  Patty Duke   \n",
       "\n",
       "                            song_id  instance  previous_week_position  \\\n",
       "0  Don't Just Stand TherePatty Duke         1                    45.0   \n",
       "1  Don't Just Stand TherePatty Duke         1                    34.0   \n",
       "2  Don't Just Stand TherePatty Duke         1                    22.0   \n",
       "3  Don't Just Stand TherePatty Duke         1                    14.0   \n",
       "4  Don't Just Stand TherePatty Duke         1                    10.0   \n",
       "\n",
       "   peak_position  weeks_on_chart  year  week  \n",
       "0             34               4  1965    29  \n",
       "1             22               5  1965    30  \n",
       "2             14               6  1965    31  \n",
       "3             10               7  1965    32  \n",
       "4              8               8  1965    33  "
      ]
     },
     "execution_count": 2,
     "metadata": {},
     "output_type": "execute_result"
    }
   ],
   "source": [
    "df = pd.read_csv(\"billboard.csv\")\n",
    "df[:5]"
   ]
  },
  {
   "cell_type": "code",
   "execution_count": 15,
   "id": "5b3ab799",
   "metadata": {},
   "outputs": [
    {
     "name": "stdout",
     "output_type": "stream",
     "text": [
      "Top 10 Most Popular Songs on Billboard Since 1958, measured by the total number of weeks spent on the chart.\n"
     ]
    },
    {
     "data": {
      "text/html": [
       "<div>\n",
       "<style scoped>\n",
       "    .dataframe tbody tr th:only-of-type {\n",
       "        vertical-align: middle;\n",
       "    }\n",
       "\n",
       "    .dataframe tbody tr th {\n",
       "        vertical-align: top;\n",
       "    }\n",
       "\n",
       "    .dataframe thead th {\n",
       "        text-align: right;\n",
       "    }\n",
       "</style>\n",
       "<table border=\"1\" class=\"dataframe\">\n",
       "  <thead>\n",
       "    <tr style=\"text-align: right;\">\n",
       "      <th></th>\n",
       "      <th>performer</th>\n",
       "      <th>song</th>\n",
       "      <th>count</th>\n",
       "    </tr>\n",
       "  </thead>\n",
       "  <tbody>\n",
       "    <tr>\n",
       "      <th>11194</th>\n",
       "      <td>Imagine Dragons</td>\n",
       "      <td>Radioactive</td>\n",
       "      <td>87</td>\n",
       "    </tr>\n",
       "    <tr>\n",
       "      <th>403</th>\n",
       "      <td>AWOLNATION</td>\n",
       "      <td>Sail</td>\n",
       "      <td>79</td>\n",
       "    </tr>\n",
       "    <tr>\n",
       "      <th>27121</th>\n",
       "      <td>The Weeknd</td>\n",
       "      <td>Blinding Lights</td>\n",
       "      <td>76</td>\n",
       "    </tr>\n",
       "    <tr>\n",
       "      <th>12026</th>\n",
       "      <td>Jason Mraz</td>\n",
       "      <td>I'm Yours</td>\n",
       "      <td>76</td>\n",
       "    </tr>\n",
       "    <tr>\n",
       "      <th>15008</th>\n",
       "      <td>LeAnn Rimes</td>\n",
       "      <td>How Do I Live</td>\n",
       "      <td>69</td>\n",
       "    </tr>\n",
       "    <tr>\n",
       "      <th>18752</th>\n",
       "      <td>OneRepublic</td>\n",
       "      <td>Counting Stars</td>\n",
       "      <td>68</td>\n",
       "    </tr>\n",
       "    <tr>\n",
       "      <th>14807</th>\n",
       "      <td>LMFAO Featuring Lauren Bennett &amp; GoonRock</td>\n",
       "      <td>Party Rock Anthem</td>\n",
       "      <td>68</td>\n",
       "    </tr>\n",
       "    <tr>\n",
       "      <th>12421</th>\n",
       "      <td>Jewel</td>\n",
       "      <td>Foolish Games/You Were Meant For Me</td>\n",
       "      <td>65</td>\n",
       "    </tr>\n",
       "    <tr>\n",
       "      <th>506</th>\n",
       "      <td>Adele</td>\n",
       "      <td>Rolling In The Deep</td>\n",
       "      <td>65</td>\n",
       "    </tr>\n",
       "    <tr>\n",
       "      <th>4347</th>\n",
       "      <td>Carrie Underwood</td>\n",
       "      <td>Before He Cheats</td>\n",
       "      <td>64</td>\n",
       "    </tr>\n",
       "  </tbody>\n",
       "</table>\n",
       "</div>"
      ],
      "text/plain": [
       "                                       performer  \\\n",
       "11194                            Imagine Dragons   \n",
       "403                                   AWOLNATION   \n",
       "27121                                 The Weeknd   \n",
       "12026                                 Jason Mraz   \n",
       "15008                                LeAnn Rimes   \n",
       "18752                                OneRepublic   \n",
       "14807  LMFAO Featuring Lauren Bennett & GoonRock   \n",
       "12421                                      Jewel   \n",
       "506                                        Adele   \n",
       "4347                            Carrie Underwood   \n",
       "\n",
       "                                      song  count  \n",
       "11194                          Radioactive     87  \n",
       "403                                   Sail     79  \n",
       "27121                      Blinding Lights     76  \n",
       "12026                            I'm Yours     76  \n",
       "15008                        How Do I Live     69  \n",
       "18752                       Counting Stars     68  \n",
       "14807                    Party Rock Anthem     68  \n",
       "12421  Foolish Games/You Were Meant For Me     65  \n",
       "506                    Rolling In The Deep     65  \n",
       "4347                      Before He Cheats     64  "
      ]
     },
     "execution_count": 15,
     "metadata": {},
     "output_type": "execute_result"
    }
   ],
   "source": [
    "# Groups the dataframe by both the performer and song columns.\n",
    "# The count of weeks spent on the chart is then determined for each song.\n",
    "df_with_count = df.groupby(['performer', 'song']).size().reset_index(name='count')\n",
    "\n",
    "# The values are then sorted in descending order of the count variable, in order to obtain the top 10 most popular songs since 1958.\n",
    "top_10_most_pop_songs = df_with_count.sort_values(by='count', ascending=False).head(10)\n",
    "print(\"Top 10 Most Popular Songs on Billboard Since 1958, measured by the total number of weeks spent on the chart.\")\n",
    "top_10_most_pop_songs"
   ]
  },
  {
   "cell_type": "markdown",
   "id": "a4b3d020",
   "metadata": {},
   "source": [
    "From the table above, we can observe that the most popular song on the Billboard Top 100 is \"Radioactive\" by Imagine Dragons, spending 87 total weeks on the chart. This is followed by \"Sail\" by \"AWOLNATION\", \"Blinding Lights\" by The Weeknd, and \"I'm Yours\" by Jason Mraz, all which spent between 76 and 79 weeks on the chart. The fifth to seventh-most popular songs ended up being \"How Do I Live\" by LeAnn Rimes, \"Counting Stars\" by OneRepublic, and \"Party Rock Anthem\" by LMFAO (Ft. Lauren Bennett & GoonRock). The eighth to tenth-most popular songs are \"Foolish Games/You Were Meant For Me\" by Jewel, \"Rolling in the Deep\" by Adele, and \"Before He Cheats\" by Carrie Underwood, with weeks spent on the chart of 65, 65, and 64, respectively."
   ]
  },
  {
   "cell_type": "markdown",
   "id": "62f087a1",
   "metadata": {},
   "source": [
    "Part B: Is the \"musical diversity\" of the Billboard Top 100 changing over time? Let's find out. We'll measure the musical diversity of given year as the number of unique songs that appeared in the Billboard Top 100 that year. Make a line graph that plots this measure of musical diversity over the years. The x axis should show the year, while the y axis should show the number of unique songs appearing at any position on the Billboard Top 100 chart in any week that year. For this part, please filter the data set so that it excludes the years 1958 and 2021, since we do not have complete data on either of those years. Give the figure an informative caption in which you explain what is shown in the figure and comment on any interesting trends you see.\n",
    "\n",
    "There are number of ways to accomplish the data wrangling here. For example, you could use two distinct sets of data-wrangling steps. The first set of steps would get you a table that counts the number of times that a given song appears on the Top 100 in a given year. The second set of steps operate on the result of the first set of steps; it would count the number of unique songs that appeared on the Top 100 in each year, irrespective of how many times it had appeared."
   ]
  },
  {
   "cell_type": "code",
   "execution_count": 20,
   "id": "ea6cd7f7",
   "metadata": {},
   "outputs": [
    {
     "name": "stdout",
     "output_type": "stream",
     "text": [
      "Musical diversity on the Billboard Top 100 chart from 1959 to 2020, based on the number of unique songs present on the chart for each year.\n"
     ]
    },
    {
     "data": {
      "image/png": "[encoded data removed]",
      "text/plain": [
       "<Figure size 720x432 with 1 Axes>"
      ]
     },
     "metadata": {
      "needs_background": "light"
     },
     "output_type": "display_data"
    }
   ],
   "source": [
    "import matplotlib.pyplot as plt\n",
    "\n",
    "# Excludes the years 1958 and 2021 from the data frame.\n",
    "cleaned_df = df[(df['year'] > 1958) & (df['year'] < 2021)]\n",
    "\n",
    "# Determines the number of unique songs per year\n",
    "unique_songs_per_year = cleaned_df.groupby('year')['song'].nunique().reset_index(name='unique_songs')\n",
    "\n",
    "# Creates a line graph for the data.\n",
    "plt.figure(figsize=(10, 6))\n",
    "plt.plot(unique_songs_per_year['year'], unique_songs_per_year['unique_songs'], marker='o', linestyle='-', color='b')\n",
    "plt.title(\"Musical Diversity on Billboard Top 100 Over Time (1959-2020)\")\n",
    "plt.xlabel(\"Year\")\n",
    "plt.ylabel(\"Number of Unique Songs\")\n",
    "plt.grid(True)\n",
    "\n",
    "print(\"Musical diversity on the Billboard Top 100 chart from 1959 to 2020, based on the number of unique songs present on the chart for each year.\")\n",
    "\n",
    "plt.show()"
   ]
  },
  {
   "cell_type": "markdown",
   "id": "6f7d7b53",
   "metadata": {},
   "source": [
    "The line graph above illustrates the number of unique songs present on the Billboard Top 100 chart for every year from 1959 to 2020. Because 1958 and 2021 did not possess complete data, they are not shown in the above graph. From examining the line graph above, interesting patterns emerge. First off, it appears that the musical diversity on the chart peaked somewhere between 1966 and 1967, with over 800 unique songs present on the chart during that time period. From that point, although there are some spikes upward, musical diversity gradually declined all the way until about 2001, where less than 400 unique songs appeared on the chart. This trend reverse for the next 10 years, up until 2011, with a relative peak of close to 600 unique songs present. There was then a sharp drop in diversity from 2012-2015, as the number of unique songs hovered around 500 per year. Since then, though, musical diversity has dramatically increased, going from sub-500 songs present to nearly 800 unique songs appearing on the chart for 2020. Now, it seems that the musical diversity of the chart is nearly as diverse as it was back in the mid-1960s."
   ]
  },
  {
   "cell_type": "markdown",
   "id": "c3250f92",
   "metadata": {},
   "source": [
    "Part C: Let's define a \"ten-week hit\" as a single song that appeared on the Billboard Top 100 for at least ten weeks. There are 19 artists in U.S. musical history since 1958 who have had at least 30 songs that were \"ten-week hits.\" Make a bar plot for these 19 artists, showing how many ten-week hits each one had in their musical career. Give the plot an informative caption in which you explain what is shown.\n",
    "\n",
    "Notes:\n",
    "\n",
    "- You might find this easier to accomplish in two distinct sets of data wrangling steps.\n",
    "- Make sure that the individuals names of the artists are readable in your plot, and that they're not all jumbled together. If you find that your plot isn't readable with vertical bars, you can add a coord_flip() layer to your plot to make the bars (and labels) run horizontally instead.\n",
    "- By default a bar plot will order the artists in alphabetical order. This is acceptable to turn in. But if you'd like to order them according to some other variable, you can use the fct_reorder function, described in this blog post. This is optional."
   ]
  },
  {
   "cell_type": "code",
   "execution_count": 23,
   "id": "186ba0a0",
   "metadata": {},
   "outputs": [
    {
     "name": "stdout",
     "output_type": "stream",
     "text": [
      "Presents the 19 artists in U.S. musical history since 1958 who have possessed at least 30 songs that were ten-week hits.\n"
     ]
    },
    {
     "data": {
      "image/png": "[encoded data removed]",
      "text/plain": [
       "<Figure size 720x576 with 1 Axes>"
      ]
     },
     "metadata": {
      "needs_background": "light"
     },
     "output_type": "display_data"
    }
   ],
   "source": [
    "# Filtering based on songs that are deemed to be ten-week hits\n",
    "ten_wk_hits_df = df.groupby(['performer', 'song']).filter(lambda x: x['week_position'].count() >= 10)\n",
    "\n",
    "# Determining the number of songs which were ten-week hits based on the artist\n",
    "ten_wk_hits_per_artist = ten_wk_hits_df.groupby('performer')['song'].nunique().reset_index(name='ten_week_hits')\n",
    "\n",
    "# Filters the data based on artists possessing at least 30 ten-week hits\n",
    "hitmakers = ten_wk_hits_per_artist[ten_wk_hits_per_artist['ten_week_hits'] >= 30]\n",
    "\n",
    "# Sorts the values of the data based on the number of ten-week hits\n",
    "hitmakers = hitmakers.sort_values(by='ten_week_hits', ascending=False)\n",
    "\n",
    "# Creates a bar plot for the data\n",
    "plt.figure(figsize=(10, 8))\n",
    "plt.barh(hitmakers['performer'], hitmakers['ten_week_hits'], color='blue')\n",
    "plt.xlabel(\"Number of Ten-Week Hits\")\n",
    "plt.ylabel(\"Artist\")\n",
    "plt.title(\"Artists with at Least 30 Ten-Week Hits in the Billboard Top 100 (1958-2021)\")\n",
    "plt.grid(True, axis='x')\n",
    "\n",
    "print(\"Presents the 19 artists in U.S. musical history since 1958 who have possessed at least 30 songs that were ten-week hits.\")\n",
    "\n",
    "plt.tight_layout()\n",
    "plt.show()"
   ]
  },
  {
   "cell_type": "markdown",
   "id": "742c990c",
   "metadata": {},
   "source": [
    "The bar plot above shows the 19 artists in U.S. musical history since 1958 which have had at least 30 songs which were deemed ten-week hits. For this purpose, a ten-week hit is defined as a single song that appeared on the Billboard Top 100 for a period of at least 10 weeks. The x-axis displays the number of ten-weeks hits per artist, and the y-axis presents the corresponding artist for each number of ten-week hits. The artist with the greatest number of ten-week hits is Elton John, with over 50 songs falling into this category. Rounding out the top five are artists like Madonna and Kenny Chesney, with over 40 ten-week hits, and artists like Tim McGraw and Keith Urban, which have between 35 and 40 such songs. Other artists in the bar plot with over 30 ten-week hits are Stevie Wonder, Taylor Swift, Michael Jackson, Rod Stewart, The Rolling Stones, Billy Joel, Drake, Chicago, and Rascal Flatts. Intriguingly, five artists have exactly 30 ten-week hits on the Billboard Top 100: Neil Diamond, Brad Paisley, Jason Aldean, George Strait, and Daryl Hall John Oates. Overall, it seems that Pop, Country, and Rock artists possess the most individual songs which stay on the chart for at least ten weeks."
   ]
  }
 ],
 "metadata": {
  "kernelspec": {
   "display_name": "Python 3 (ipykernel)",
   "language": "python",
   "name": "python3"
  },
  "language_info": {
   "codemirror_mode": {
    "name": "ipython",
    "version": 3
   },
   "file_extension": ".py",
   "mimetype": "text/x-python",
   "name": "python",
   "nbconvert_exporter": "python",
   "pygments_lexer": "ipython3",
   "version": "3.9.7"
  }
 },
 "nbformat": 4,
 "nbformat_minor": 5
}
